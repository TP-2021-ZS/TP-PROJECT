{
 "cells": [
  {
   "cell_type": "code",
   "execution_count": 15,
   "id": "209f800b-5705-488e-9f13-f41a40f4f804",
   "metadata": {},
   "outputs": [],
   "source": [
    "import requests\n",
    "from bs4 import BeautifulSoup\n",
    "\n",
    "url = \"https://akcie.sk/tesla-predbehla-facebook-a-prekonala-trhovu-hodnotu-1-biliona/\"\n",
    "\n",
    "response = requests.get(url)\n",
    "page = str(BeautifulSoup(response.content))\n",
    "soup = BeautifulSoup(page, 'lxml')\n",
    "\n",
    "# Prints whole raw page\n",
    "# print(soup.prettify())"
   ]
  },
  {
   "cell_type": "code",
   "execution_count": 16,
   "id": "d4cf0dec-dbe2-433e-a6b8-d39e9a83d011",
   "metadata": {},
   "outputs": [
    {
     "name": "stdout",
     "output_type": "stream",
     "text": [
      "\n",
      "----p----\n",
      "Akcie Tesla včera prudko poskočili a prekonali z hľadiska trhovej kapitalizácie magickú hranicu 1 bilióna dolárov vďaka veľkej dohode s firmou Hertz.  Prehľad článku Tesla včera ako siedma verejne obchodovaná spoločnosť prekonala trhovú kapitalizáciu 1 bilióna dolárov a keďže z elitného klubu Facebook minulý týždeň vypadol,  americká automobilka je aktuálne 6. najhodnotnejším podnikom sveta americká automobilka je aktuálne 6. najhodnotnejším podnikom sveta . Stalo sa tak v reakcii na oznámenie spolupráce s firmou Hertz, globálnym prenajímateľom automobilov, ktorý si  objednal od Tesly 100 000 áut objednal od Tesly 100 000 áut , pričom tie by mali byť dodané do konca budúceho roka. Hertz týmto krokom chce rozšíriť svoju ponuku áut o modely Tesla 3, aby mohla svojim zákazníkom ponúknuť alternatívu, ak preferujú elektromobily. Ten nedávno začal investovať po tom, čo sa počas koronakrízy v máji minulého roka dostal do konkurzu, pričom j eho vysoké zadlženie a pozastavené medzinárodne cestovanie ochromilo jeho podnikanie eho vysoké zadlženie a pozastavené medzinárodne cestovanie ochromilo jeho podnikanie . Rozširovanie ponuky elektrických vozidiel je súčasťou stratégie, ktorú sama definuje ako „nový Hertz“, ktorá sa zameriava na elektrifikáciu, zdieľanú mobilitu a digitálny zážitok. Akcie Tesla sa tak v reakcii na oznámené partnerstvo zvýšili o  +12,66% +12,66%  a ukončili včerajšie obchodovanie na cene $1 024,86, čo  zvýšilo trhovú kapitalizáciu firmy o viac ako 80 miliárd dolárov zvýšilo trhovú kapitalizáciu firmy o viac ako 80 miliárd dolárov  a jej súčasná hodnota dosiahla výšku 1,026 bilióna dolárov. Z hľadiska trhovej hodnoty sa tak pred Teslou nachádzajú už iba americké technologické „bluechip“ spoločnosti Apple, Microsoft, Alphabet (Google), Amazon a saudskoarabská ropná spoločnosť Saudi Aramco. Hoci je obrovská dohoda s požičovňou áut ďalším pozitívom pre akcionárov Tesly,  nárast kapitalizácie o 80 miliárd dolárov zodpovedá trhovej hodnote celých spoločností nárast kapitalizácie o 80 miliárd dolárov zodpovedá trhovej hodnote celých spoločností : Uber, Mondelez, Zoom, Xiaomi, Adidas a dvojnásobku hodnoty spoločností: Pinterest, Roku, Zscaler, Electronic Arts či Hyundai. Skok v ocenení prekvapil aj samotného Elona Muska, ktorý si tak posilnil svoju pozíciu najbohatšieho človeka na svete. „Divoké časy,“ napísal včera E. Musk na twitteri a ohľadom objednávky Herzu dodal:  „Zvláštne, že posunula ocenenie, keďže Tesla do značnej miery čelí problémom s výrobnou kapacitou, nie s problémami dopytu.“ „Zvláštne, že posunula ocenenie, keďže Tesla do značnej miery čelí problémom s výrobnou kapacitou, nie s problémami dopytu.“ Skok trhovej hodnoty o 80 miliárd nedáva veľmi zmysel ani z hľadiska samotných čísel. Objednávka Herzu by totiž mala zvýšil tržby podniku o zhruba 4,2 miliardy dolárov, čo by mohlo priniesť zisk približne 250 miliónov dolárov (možno ešte nižší, keďže pri veľkých hromadných objednávkach firmy zvyčajné získajú zľavy).  Táto jednoduchá kalkulácia tým pádom oceňuje oznámenú dohodu na 320 násobok zisku (P/E).   Táto jednoduchá kalkulácia tým pádom oceňuje oznámenú dohodu na 320 násobok zisku (P/E).  Dnes je trhová kapitalizácia Tesly väčšia ako v prípade ďalších 9 najväčších automobiliek na svete. K veľkému posunu prišlo len pár dní po tom čo  Tesla oznámila svoje štvrťročné čísla Tesla oznámila svoje štvrťročné čísla , v ktorých vykázala nárast príjmov o 56,8% na 13,76 miliardy dolárov a takmer päťnásobný nárast zisku. Dodávky sa medziročne zvýšili o 72,9% na 241 391 vozidiel, z toho 96% tvorili modely Tesla 3 a Tesla Y. Manažment ďalej informoval, že  výrobné závody v Berlíne a Austine  výrobné závody v Berlíne a Austine , ktoré budú produkovať model Y by mali byť pripravené koncom tohto roka. Pôvodne sa však očakávalo, že továreň v Berlíne už bude pripravená. Spoločnosť zároveň napreduje v industrializácii kontroverzného modelu Cybertruck. V súvislosti s rozšírením výrobnej kapacity, Tesla aj naďalej predpokladá, že  v niekoľkoročnom horizonte bude dosahovať priemerné ročné tempo rastu dodávok vozidiel na úrovni 50% v niekoľkoročnom horizonte bude dosahovať priemerné ročné tempo rastu dodávok vozidiel na úrovni 50% . Z hľadiska rentability vedenie firmy počíta s tým, že  operatívna marža bude v priebehu času naďalej rásť operatívna marža bude v priebehu času naďalej rásť . Konkrétne číselne usmernenie ohľadom tržieb či zisku Tesla neponúkla. Akcie Tesla v tomto roku vzrástli o  +45,23% +45,23% , čím dvojnásobne prekonávajú širší trh a nachádzajú na svojej historicky najvyššej úrovni. Firma sa k dnešnému dňu obchoduje za  533,8 násobok ročného zisku na akciu (P/E)  533,8 násobok ročného zisku na akciu (P/E) , 149,9 násobok predpokladaného budúcoročného zisku na akciu (Forward P/E) a  443,1 násobok voľného cashflowu na akciu (P/FCF) 443,1 násobok voľného cashflowu na akciu (P/FCF) . Názory analytikov na akcie Tesla sú stále veľmi rôznorodé, nakoľko  51 analytikov má určené svoje hodnotenie naprieč celou škálou od BUY po SELL  51 analytikov má určené svoje hodnotenie naprieč celou škálou od BUY po SELL . Ich cenový cieľ to odzrkadľuje taktiež, keď k 20. októbru sa analytické ciele pohybujú od  $67 do $1 591  $67 do $1 591  na akciu. Priemerný cenový cieľ je pritom na úrovni $757 na akciu, čo je o  -26,2% -26,2%  nižšie ako je ich aktuálna hodnota na burze. Ďalšie novinky zo sveta investovania Ďalšie novinky zo sveta investovania None Save my name, email, and website in this browser for the next time I comment. Save my name, email, and website in this browser for the next time I comment. None   None \n",
      " None \n",
      " © Copyright 2021 - Impress Media s.r.o. \n",
      "----h1----\n",
      "Tesla predbehla Facebook a prekonala trhovú hodnotu $1 bilióna \n",
      "----h2----\n",
      "\n",
      "----h3----\n",
      "Akcie AMD prudko stúpli vďaka dôležitej dohode s Metou (FB) Akcie AMD prudko stúpli vďaka dôležitej dohode s Metou (FB) Akcie Roblox poskočili o 30% po ďalšom zdvojnásobení tržieb Akcie Roblox poskočili o 30% po ďalšom zdvojnásobení tržieb Akcie Upstart za 1 rok od svojho debutu na burze stúpli už o viac ako 1 100% Akcie Upstart za 1 rok od svojho debutu na burze stúpli už o viac ako 1 100% Airbnb zaznamenalo najlepší štvrťrok v histórií, cestovanie sa zotavuje Airbnb zaznamenalo najlepší štvrťrok v histórií, cestovanie sa zotavuje Analýza akcie Mondelez: Budúci dividendový aristokrat? Analýza akcie Mondelez: Budúci dividendový aristokrat? Analýza akcie Facebook: Metavesmír a ešte ďalej Analýza akcie Facebook: Metavesmír a ešte ďalej Analýza akcie Coursera: Online vzdelávanie na vzostupe Analýza akcie Coursera: Online vzdelávanie na vzostupe Analýza akcie Splunk: Je čas nakupovať? Analýza akcie Splunk: Je čas nakupovať? Ukazovateľ EV/EBITDA a jeho využitie pri analýze akcií Ukazovateľ EV/EBITDA a jeho využitie pri analýze akcií Ziskové marže: hrubá, operatívna, čistá, aký je medzi nimi rozdiel? Ziskové marže: hrubá, operatívna, čistá, aký je medzi nimi rozdiel? Ukazovateľ P/FCF a jeho využitie v investovaní Ukazovateľ P/FCF a jeho využitie v investovaní Čo znamená pojem dividendový kráľ + aktuálny zoznam 31 akcií Čo znamená pojem dividendový kráľ + aktuálny zoznam 31 akcií Marihuanové akcie sú po raketovom raste opäť na minime Marihuanové akcie sú po raketovom raste opäť na minime 5 zaujímavých akcií, ktoré v najbližších dňoch zažijú debut na burze 5 zaujímavých akcií, ktoré v najbližších dňoch zažijú debut na burze Čo očakávať od akciových trhov na konci roka? Čo očakávať od akciových trhov na konci roka? 3 najlepšie ázijské akcie mimo Číny, ktoré sa oplatí sledovať 3 najlepšie ázijské akcie mimo Číny, ktoré sa oplatí sledovať Solana prekonala trhovú kapitalizáciu 50 miliárd dolárov Solana prekonala trhovú kapitalizáciu 50 miliárd dolárov Top 5 altcoinov vo výkonnosti za august 2021 Top 5 altcoinov vo výkonnosti za august 2021 Technická analýza Dogecoinu signalizuje potenciál Technická analýza Dogecoinu signalizuje potenciál Konferencia B Word 2021 – Elon Musk a jeho láska k Bitcoinu Konferencia B Word 2021 – Elon Musk a jeho láska k Bitcoinu None Dohoda s Hertz Dohoda s Hertz None None Veľmi pochybné ocenenie Veľmi pochybné ocenenie None None Kvartálne výsledky Kvartálne výsledky None None Akcie Tesla Akcie Tesla None Akcie AMD prudko stúpli vďaka dôležitej dohode s Metou (FB) Akcie AMD prudko stúpli vďaka dôležitej dohode s Metou (FB) Akcie Roblox poskočili o 30% po ďalšom zdvojnásobení tržieb Akcie Roblox poskočili o 30% po ďalšom zdvojnásobení tržieb Akcie Upstart za 1 rok od svojho debutu na burze stúpli už o viac ako 1 100% Akcie Upstart za 1 rok od svojho debutu na burze stúpli už o viac ako 1 100% LEAVE A REPLY  Cancel reply Cancel reply Cancel reply \n"
     ]
    }
   ],
   "source": [
    "def stringByTagName(tagName):\n",
    "    tags = soup.find_all(tagName)\n",
    "    strippedTags = ''\n",
    "    for tag in tags:\n",
    "          for descen in tag.descendants:\n",
    "                strippedTags += str(descen.string)\n",
    "                strippedTags += ' '\n",
    "    return strippedTags\n",
    "\n",
    "def tagsToString(arr):\n",
    "    stringBuilder = ''\n",
    "    for tag in arr:\n",
    "        stringBuilder += '\\n----'\n",
    "        stringBuilder += tag\n",
    "        stringBuilder += '----\\n'\n",
    "        stringBuilder += stringByTagName(tag)\n",
    "    return stringBuilder\n",
    "\n",
    "tags = ['p','h1','h2','h3']\n",
    "resultStr = tagsToString(tags)\n",
    "\n",
    "print(resultStr)"
   ]
  },
  {
   "cell_type": "code",
   "execution_count": null,
   "id": "e2fb1c06-04a3-4ad6-a50c-c67598ef1296",
   "metadata": {},
   "outputs": [],
   "source": []
  }
 ],
 "metadata": {
  "kernelspec": {
   "display_name": "Python 3 (ipykernel)",
   "language": "python",
   "name": "python3"
  },
  "language_info": {
   "codemirror_mode": {
    "name": "ipython",
    "version": 3
   },
   "file_extension": ".py",
   "mimetype": "text/x-python",
   "name": "python",
   "nbconvert_exporter": "python",
   "pygments_lexer": "ipython3",
   "version": "3.8.10"
  }
 },
 "nbformat": 4,
 "nbformat_minor": 5
}
