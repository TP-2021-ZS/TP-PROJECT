{
 "cells": [
  {
   "cell_type": "code",
   "execution_count": null,
   "id": "209f800b-5705-488e-9f13-f41a40f4f804",
   "metadata": {},
   "outputs": [],
   "source": [
    "import requests\n",
    "from bs4 import BeautifulSoup\n",
    "\n",
    "url = \"https://akcie.sk/tesla-predbehla-facebook-a-prekonala-trhovu-hodnotu-1-biliona/\"\n",
    "\n",
    "response = requests.get(url)\n",
    "page = str(BeautifulSoup(response.content))\n",
    "soup = BeautifulSoup(page, 'lxml')\n",
    "\n",
    "# Prints whole raw page\n",
    "# print(soup.prettify())"
   ]
  },
  {
   "cell_type": "code",
   "execution_count": null,
   "id": "d4cf0dec-dbe2-433e-a6b8-d39e9a83d011",
   "metadata": {},
   "outputs": [],
   "source": [
    "def tagsToString(tagName):\n",
    "    tags = soup.find_all(tagName)\n",
    "    strippedTags = ''\n",
    "    for tag in tags:\n",
    "          for descen in tag.descendants:\n",
    "                strippedTags += str(descen.string)\n",
    "                strippedTags += ' '\n",
    "    return strippedTags\n",
    "\n",
    "# Choose tag type (p,h1,h2,h3)\n",
    "chosenTag = 'p'\n",
    "tagList = soup.find_all(chosenTag)\n",
    "resultStr = tagsToString(chosenTag)\n",
    "\n",
    "print(\"List of raw tags: \\n\")\n",
    "print(tagList)\n",
    "print(\"\\nString containing only text: \\n\")\n",
    "print(resultStr)"
   ]
  },
  {
   "cell_type": "code",
   "execution_count": null,
   "id": "e2fb1c06-04a3-4ad6-a50c-c67598ef1296",
   "metadata": {},
   "outputs": [],
   "source": []
  }
 ],
 "metadata": {
  "kernelspec": {
   "display_name": "Python 3 (ipykernel)",
   "language": "python",
   "name": "python3"
  },
  "language_info": {
   "codemirror_mode": {
    "name": "ipython",
    "version": 3
   },
   "file_extension": ".py",
   "mimetype": "text/x-python",
   "name": "python",
   "nbconvert_exporter": "python",
   "pygments_lexer": "ipython3",
   "version": "3.8.10"
  }
 },
 "nbformat": 4,
 "nbformat_minor": 5
}
